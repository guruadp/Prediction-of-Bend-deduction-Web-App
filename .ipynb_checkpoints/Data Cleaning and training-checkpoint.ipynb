{
 "cells": [
  {
   "cell_type": "code",
   "execution_count": 15,
   "metadata": {},
   "outputs": [],
   "source": [
    "import pandas as pd\n",
    "from sklearn.model_selection import train_test_split\n",
    "import sklearn.metrics as metrics\n",
    "import joblib"
   ]
  },
  {
   "cell_type": "code",
   "execution_count": 2,
   "metadata": {},
   "outputs": [],
   "source": [
    "sheet_names = ['STEEL 90°', 'STEEL 100°', 'STEEL 110°', 'STEEL 120°', 'STEEL 130°', 'STEEL 140°']\n",
    "data = pd.DataFrame(columns= ['Thickness', 'V-type', 'Punch', 'bend_deduction'])\n",
    "for sheetName in sheet_names:\n",
    "    df = pd.read_excel('Bend Deduction dataset.xlsx', sheet_name=sheetName)\n",
    "    column_name = df.iloc[1]\n",
    "    angle = df['HaLSpace Bending Parameter'][0]\n",
    "    angle = ''.join(e for e in angle if e.isalnum()) #to remove special characters from string\n",
    "    df.columns = column_name\n",
    "    df = df[2:]\n",
    "    df = df[['Thickness','V type','Punch','Growth bending　 曲げ伸び']]\n",
    "    df['Thickness'] = df['Thickness'].fillna(method='ffill')\n",
    "    df['Thickness'] = df['Thickness'].str.replace(\"t\",\"\")\n",
    "    df[\"V type\"] = df[\"V type\"].str.replace(\"V\",\"\")\n",
    "    df['Punch'] = df[\"Punch\"].str.replace(\"R\",\"\")\n",
    "    df.columns = ['Thickness', 'V-type', 'Punch', 'bend_deduction']\n",
    "    df['angle'] = angle\n",
    "    data = pd.concat([data, df])\n",
    "data.to_csv('cleaned_data.csv')"
   ]
  },
  {
   "cell_type": "code",
   "execution_count": 5,
   "metadata": {},
   "outputs": [
    {
     "name": "stdout",
     "output_type": "stream",
     "text": [
      "(363, 4) (363,)\n",
      "(272, 4) (272,)\n",
      "(91, 4) (91,)\n"
     ]
    }
   ],
   "source": [
    "data = data.dropna()\n",
    "x = data[['Thickness', 'V-type', 'Punch', 'angle']].to_numpy()\n",
    "y = data['bend_deduction'].to_numpy()\n",
    "print(x.shape, y.shape)\n",
    "x_train, x_test, y_train, y_test = train_test_split(x, y, test_size=0.25,\n",
    "                                                    random_state=37)\n",
    "print(x_train.shape, y_train.shape)\n",
    "print(x_test.shape, y_test.shape)\n"
   ]
  },
  {
   "cell_type": "code",
   "execution_count": 10,
   "metadata": {},
   "outputs": [
    {
     "data": {
      "text/plain": [
       "RandomForestRegressor(random_state=0)"
      ]
     },
     "execution_count": 10,
     "metadata": {},
     "output_type": "execute_result"
    }
   ],
   "source": [
    "# Fitting Random Forest Regression to the dataset\n",
    "# import the regressor\n",
    "from sklearn.ensemble import RandomForestRegressor\n",
    " \n",
    " # create regressor object\n",
    "model = RandomForestRegressor(n_estimators = 100, random_state = 0)\n",
    " \n",
    "# fit the regressor with x and y data\n",
    "model.fit(x_train, y_train)"
   ]
  },
  {
   "cell_type": "code",
   "execution_count": 11,
   "metadata": {},
   "outputs": [],
   "source": [
    "def evaluate(y_train, y_test):\n",
    "    y_pred = model.predict(x_train)\n",
    "    train_rmse = (metrics.mean_squared_error(y_train, y_pred, squared=False))\n",
    "    print(\"Training RMSE: \",train_rmse)\n",
    "    y_pred = model.predict(x_test)\n",
    "    test_rmse = (metrics.mean_squared_error(y_test, y_pred, squared=False))\n",
    "    print(\"Testing RMSE: \",test_rmse)"
   ]
  },
  {
   "cell_type": "code",
   "execution_count": 14,
   "metadata": {},
   "outputs": [
    {
     "name": "stdout",
     "output_type": "stream",
     "text": [
      "Training RMSE:  0.6443173834570928\n",
      "Testing RMSE:  0.5097369875568345\n"
     ]
    }
   ],
   "source": [
    "evaluate(y_train, y_test)"
   ]
  },
  {
   "cell_type": "code",
   "execution_count": 16,
   "metadata": {},
   "outputs": [
    {
     "data": {
      "text/plain": [
       "['model.pkl']"
      ]
     },
     "execution_count": 16,
     "metadata": {},
     "output_type": "execute_result"
    }
   ],
   "source": [
    "joblib.dump(model, 'model.pkl') "
   ]
  },
  {
   "cell_type": "code",
   "execution_count": null,
   "metadata": {},
   "outputs": [],
   "source": []
  }
 ],
 "metadata": {
  "kernelspec": {
   "display_name": "Python 3",
   "language": "python",
   "name": "python3"
  },
  "language_info": {
   "codemirror_mode": {
    "name": "ipython",
    "version": 3
   },
   "file_extension": ".py",
   "mimetype": "text/x-python",
   "name": "python",
   "nbconvert_exporter": "python",
   "pygments_lexer": "ipython3",
   "version": "3.8.5"
  }
 },
 "nbformat": 4,
 "nbformat_minor": 5
}
