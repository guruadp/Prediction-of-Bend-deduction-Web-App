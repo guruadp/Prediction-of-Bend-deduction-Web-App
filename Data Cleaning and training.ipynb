{
 "cells": [
  {
   "cell_type": "code",
   "execution_count": 47,
   "metadata": {},
   "outputs": [],
   "source": [
    "import pandas as pd\n",
    "from sklearn.model_selection import train_test_split"
   ]
  },
  {
   "cell_type": "code",
   "execution_count": 48,
   "metadata": {},
   "outputs": [],
   "source": [
    "sheet_names = ['STEEL 90°', 'STEEL 100°', 'STEEL 110°', 'STEEL 120°', 'STEEL 130°', 'STEEL 140°']\n",
    "data = pd.DataFrame(columns= ['Thickness', 'V-type', 'Punch', 'bend_deduction'])\n",
    "for sheetName in sheet_names:\n",
    "    df = pd.read_excel('Bend Deduction dataset.xlsx', sheet_name=sheetName)\n",
    "    column_name = df.iloc[1]\n",
    "    angle = df['HaLSpace Bending Parameter'][0]\n",
    "    angle = ''.join(e for e in angle if e.isalnum()) #to remove special characters from string\n",
    "    df.columns = column_name\n",
    "    df = df[2:]\n",
    "    df = df[['Thickness','V type','Punch','Growth bending　 曲げ伸び']]\n",
    "    df['Thickness'] = df['Thickness'].fillna(method='ffill')\n",
    "    df['Thickness'] = df['Thickness'].str.replace(\"t\",\"\")\n",
    "    df[\"V type\"] = df[\"V type\"].str.replace(\"V\",\"\")\n",
    "    df['Punch'] = df[\"Punch\"].str.replace(\"R\",\"\")\n",
    "    df.columns = ['Thickness', 'V-type', 'Punch', 'bend_deduction']\n",
    "    df['angle'] = angle\n",
    "    data = pd.concat([data, df])\n",
    "data.to_csv('cleaned_data.csv')"
   ]
  },
  {
   "cell_type": "code",
   "execution_count": null,
   "metadata": {},
   "outputs": [],
   "source": []
  },
  {
   "cell_type": "code",
   "execution_count": null,
   "metadata": {},
   "outputs": [],
   "source": []
  },
  {
   "cell_type": "code",
   "execution_count": null,
   "metadata": {},
   "outputs": [],
   "source": []
  }
 ],
 "metadata": {
  "kernelspec": {
   "display_name": "Python 3",
   "language": "python",
   "name": "python3"
  },
  "language_info": {
   "codemirror_mode": {
    "name": "ipython",
    "version": 3
   },
   "file_extension": ".py",
   "mimetype": "text/x-python",
   "name": "python",
   "nbconvert_exporter": "python",
   "pygments_lexer": "ipython3",
   "version": "3.8.5"
  }
 },
 "nbformat": 4,
 "nbformat_minor": 5
}
